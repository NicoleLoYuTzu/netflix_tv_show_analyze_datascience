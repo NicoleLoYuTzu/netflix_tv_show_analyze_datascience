{
 "cells": [
  {
   "cell_type": "code",
   "execution_count": 2,
   "id": "0171338e",
   "metadata": {
    "_cell_guid": "b1076dfc-b9ad-4769-8c92-a6c4dae69d19",
    "_uuid": "8f2839f25d086af736a60e9eeb907d3b93b6e0e5",
    "execution": {
     "iopub.execute_input": "2024-05-22T06:31:45.805898Z",
     "iopub.status.busy": "2024-05-22T06:31:45.805285Z",
     "iopub.status.idle": "2024-05-22T06:31:48.059016Z",
     "shell.execute_reply": "2024-05-22T06:31:48.057809Z"
    },
    "papermill": {
     "duration": 2.266354,
     "end_time": "2024-05-22T06:31:48.061986",
     "exception": false,
     "start_time": "2024-05-22T06:31:45.795632",
     "status": "completed"
    },
    "tags": []
   },
   "outputs": [],
   "source": [
    "import numpy as np \n",
    "import pandas as pd\n",
    "import matplotlib.pyplot as plt\n",
    "import seaborn as sns"
   ]
  },
  {
   "cell_type": "markdown",
   "id": "899bac76",
   "metadata": {
    "papermill": {
     "duration": 0.006231,
     "end_time": "2024-05-22T06:31:48.075232",
     "exception": false,
     "start_time": "2024-05-22T06:31:48.069001",
     "status": "completed"
    },
    "tags": []
   },
   "source": [
    "## Data Import"
   ]
  },
  {
   "cell_type": "code",
   "execution_count": 3,
   "id": "b92d71dc",
   "metadata": {
    "execution": {
     "iopub.execute_input": "2024-05-22T06:31:48.089986Z",
     "iopub.status.busy": "2024-05-22T06:31:48.089421Z",
     "iopub.status.idle": "2024-05-22T06:31:48.276881Z",
     "shell.execute_reply": "2024-05-22T06:31:48.275709Z"
    },
    "papermill": {
     "duration": 0.198035,
     "end_time": "2024-05-22T06:31:48.279690",
     "exception": false,
     "start_time": "2024-05-22T06:31:48.081655",
     "status": "completed"
    },
    "tags": []
   },
   "outputs": [
    {
     "ename": "FileNotFoundError",
     "evalue": "[Errno 2] No such file or directory: '/kaggle/input/netflix-movies-and-tv-shows/netflix_titles.csv'",
     "output_type": "error",
     "traceback": [
      "\u001b[0;31m---------------------------------------------------------------------------\u001b[0m",
      "\u001b[0;31mFileNotFoundError\u001b[0m                         Traceback (most recent call last)",
      "Cell \u001b[0;32mIn[3], line 1\u001b[0m\n\u001b[0;32m----> 1\u001b[0m df \u001b[38;5;241m=\u001b[39m pd\u001b[38;5;241m.\u001b[39mread_csv(\u001b[38;5;124m'\u001b[39m\u001b[38;5;124m/kaggle/input/netflix-movies-and-tv-shows/netflix_titles.csv\u001b[39m\u001b[38;5;124m'\u001b[39m, encoding\u001b[38;5;241m=\u001b[39m\u001b[38;5;124m'\u001b[39m\u001b[38;5;124mISO-8859-1\u001b[39m\u001b[38;5;124m'\u001b[39m)\n\u001b[1;32m      2\u001b[0m df\u001b[38;5;241m.\u001b[39mhead()\n",
      "File \u001b[0;32m~/anaconda3/lib/python3.11/site-packages/pandas/io/parsers/readers.py:912\u001b[0m, in \u001b[0;36mread_csv\u001b[0;34m(filepath_or_buffer, sep, delimiter, header, names, index_col, usecols, dtype, engine, converters, true_values, false_values, skipinitialspace, skiprows, skipfooter, nrows, na_values, keep_default_na, na_filter, verbose, skip_blank_lines, parse_dates, infer_datetime_format, keep_date_col, date_parser, date_format, dayfirst, cache_dates, iterator, chunksize, compression, thousands, decimal, lineterminator, quotechar, quoting, doublequote, escapechar, comment, encoding, encoding_errors, dialect, on_bad_lines, delim_whitespace, low_memory, memory_map, float_precision, storage_options, dtype_backend)\u001b[0m\n\u001b[1;32m    899\u001b[0m kwds_defaults \u001b[38;5;241m=\u001b[39m _refine_defaults_read(\n\u001b[1;32m    900\u001b[0m     dialect,\n\u001b[1;32m    901\u001b[0m     delimiter,\n\u001b[0;32m   (...)\u001b[0m\n\u001b[1;32m    908\u001b[0m     dtype_backend\u001b[38;5;241m=\u001b[39mdtype_backend,\n\u001b[1;32m    909\u001b[0m )\n\u001b[1;32m    910\u001b[0m kwds\u001b[38;5;241m.\u001b[39mupdate(kwds_defaults)\n\u001b[0;32m--> 912\u001b[0m \u001b[38;5;28;01mreturn\u001b[39;00m _read(filepath_or_buffer, kwds)\n",
      "File \u001b[0;32m~/anaconda3/lib/python3.11/site-packages/pandas/io/parsers/readers.py:577\u001b[0m, in \u001b[0;36m_read\u001b[0;34m(filepath_or_buffer, kwds)\u001b[0m\n\u001b[1;32m    574\u001b[0m _validate_names(kwds\u001b[38;5;241m.\u001b[39mget(\u001b[38;5;124m\"\u001b[39m\u001b[38;5;124mnames\u001b[39m\u001b[38;5;124m\"\u001b[39m, \u001b[38;5;28;01mNone\u001b[39;00m))\n\u001b[1;32m    576\u001b[0m \u001b[38;5;66;03m# Create the parser.\u001b[39;00m\n\u001b[0;32m--> 577\u001b[0m parser \u001b[38;5;241m=\u001b[39m TextFileReader(filepath_or_buffer, \u001b[38;5;241m*\u001b[39m\u001b[38;5;241m*\u001b[39mkwds)\n\u001b[1;32m    579\u001b[0m \u001b[38;5;28;01mif\u001b[39;00m chunksize \u001b[38;5;129;01mor\u001b[39;00m iterator:\n\u001b[1;32m    580\u001b[0m     \u001b[38;5;28;01mreturn\u001b[39;00m parser\n",
      "File \u001b[0;32m~/anaconda3/lib/python3.11/site-packages/pandas/io/parsers/readers.py:1407\u001b[0m, in \u001b[0;36mTextFileReader.__init__\u001b[0;34m(self, f, engine, **kwds)\u001b[0m\n\u001b[1;32m   1404\u001b[0m     \u001b[38;5;28mself\u001b[39m\u001b[38;5;241m.\u001b[39moptions[\u001b[38;5;124m\"\u001b[39m\u001b[38;5;124mhas_index_names\u001b[39m\u001b[38;5;124m\"\u001b[39m] \u001b[38;5;241m=\u001b[39m kwds[\u001b[38;5;124m\"\u001b[39m\u001b[38;5;124mhas_index_names\u001b[39m\u001b[38;5;124m\"\u001b[39m]\n\u001b[1;32m   1406\u001b[0m \u001b[38;5;28mself\u001b[39m\u001b[38;5;241m.\u001b[39mhandles: IOHandles \u001b[38;5;241m|\u001b[39m \u001b[38;5;28;01mNone\u001b[39;00m \u001b[38;5;241m=\u001b[39m \u001b[38;5;28;01mNone\u001b[39;00m\n\u001b[0;32m-> 1407\u001b[0m \u001b[38;5;28mself\u001b[39m\u001b[38;5;241m.\u001b[39m_engine \u001b[38;5;241m=\u001b[39m \u001b[38;5;28mself\u001b[39m\u001b[38;5;241m.\u001b[39m_make_engine(f, \u001b[38;5;28mself\u001b[39m\u001b[38;5;241m.\u001b[39mengine)\n",
      "File \u001b[0;32m~/anaconda3/lib/python3.11/site-packages/pandas/io/parsers/readers.py:1661\u001b[0m, in \u001b[0;36mTextFileReader._make_engine\u001b[0;34m(self, f, engine)\u001b[0m\n\u001b[1;32m   1659\u001b[0m     \u001b[38;5;28;01mif\u001b[39;00m \u001b[38;5;124m\"\u001b[39m\u001b[38;5;124mb\u001b[39m\u001b[38;5;124m\"\u001b[39m \u001b[38;5;129;01mnot\u001b[39;00m \u001b[38;5;129;01min\u001b[39;00m mode:\n\u001b[1;32m   1660\u001b[0m         mode \u001b[38;5;241m+\u001b[39m\u001b[38;5;241m=\u001b[39m \u001b[38;5;124m\"\u001b[39m\u001b[38;5;124mb\u001b[39m\u001b[38;5;124m\"\u001b[39m\n\u001b[0;32m-> 1661\u001b[0m \u001b[38;5;28mself\u001b[39m\u001b[38;5;241m.\u001b[39mhandles \u001b[38;5;241m=\u001b[39m get_handle(\n\u001b[1;32m   1662\u001b[0m     f,\n\u001b[1;32m   1663\u001b[0m     mode,\n\u001b[1;32m   1664\u001b[0m     encoding\u001b[38;5;241m=\u001b[39m\u001b[38;5;28mself\u001b[39m\u001b[38;5;241m.\u001b[39moptions\u001b[38;5;241m.\u001b[39mget(\u001b[38;5;124m\"\u001b[39m\u001b[38;5;124mencoding\u001b[39m\u001b[38;5;124m\"\u001b[39m, \u001b[38;5;28;01mNone\u001b[39;00m),\n\u001b[1;32m   1665\u001b[0m     compression\u001b[38;5;241m=\u001b[39m\u001b[38;5;28mself\u001b[39m\u001b[38;5;241m.\u001b[39moptions\u001b[38;5;241m.\u001b[39mget(\u001b[38;5;124m\"\u001b[39m\u001b[38;5;124mcompression\u001b[39m\u001b[38;5;124m\"\u001b[39m, \u001b[38;5;28;01mNone\u001b[39;00m),\n\u001b[1;32m   1666\u001b[0m     memory_map\u001b[38;5;241m=\u001b[39m\u001b[38;5;28mself\u001b[39m\u001b[38;5;241m.\u001b[39moptions\u001b[38;5;241m.\u001b[39mget(\u001b[38;5;124m\"\u001b[39m\u001b[38;5;124mmemory_map\u001b[39m\u001b[38;5;124m\"\u001b[39m, \u001b[38;5;28;01mFalse\u001b[39;00m),\n\u001b[1;32m   1667\u001b[0m     is_text\u001b[38;5;241m=\u001b[39mis_text,\n\u001b[1;32m   1668\u001b[0m     errors\u001b[38;5;241m=\u001b[39m\u001b[38;5;28mself\u001b[39m\u001b[38;5;241m.\u001b[39moptions\u001b[38;5;241m.\u001b[39mget(\u001b[38;5;124m\"\u001b[39m\u001b[38;5;124mencoding_errors\u001b[39m\u001b[38;5;124m\"\u001b[39m, \u001b[38;5;124m\"\u001b[39m\u001b[38;5;124mstrict\u001b[39m\u001b[38;5;124m\"\u001b[39m),\n\u001b[1;32m   1669\u001b[0m     storage_options\u001b[38;5;241m=\u001b[39m\u001b[38;5;28mself\u001b[39m\u001b[38;5;241m.\u001b[39moptions\u001b[38;5;241m.\u001b[39mget(\u001b[38;5;124m\"\u001b[39m\u001b[38;5;124mstorage_options\u001b[39m\u001b[38;5;124m\"\u001b[39m, \u001b[38;5;28;01mNone\u001b[39;00m),\n\u001b[1;32m   1670\u001b[0m )\n\u001b[1;32m   1671\u001b[0m \u001b[38;5;28;01massert\u001b[39;00m \u001b[38;5;28mself\u001b[39m\u001b[38;5;241m.\u001b[39mhandles \u001b[38;5;129;01mis\u001b[39;00m \u001b[38;5;129;01mnot\u001b[39;00m \u001b[38;5;28;01mNone\u001b[39;00m\n\u001b[1;32m   1672\u001b[0m f \u001b[38;5;241m=\u001b[39m \u001b[38;5;28mself\u001b[39m\u001b[38;5;241m.\u001b[39mhandles\u001b[38;5;241m.\u001b[39mhandle\n",
      "File \u001b[0;32m~/anaconda3/lib/python3.11/site-packages/pandas/io/common.py:859\u001b[0m, in \u001b[0;36mget_handle\u001b[0;34m(path_or_buf, mode, encoding, compression, memory_map, is_text, errors, storage_options)\u001b[0m\n\u001b[1;32m    854\u001b[0m \u001b[38;5;28;01melif\u001b[39;00m \u001b[38;5;28misinstance\u001b[39m(handle, \u001b[38;5;28mstr\u001b[39m):\n\u001b[1;32m    855\u001b[0m     \u001b[38;5;66;03m# Check whether the filename is to be opened in binary mode.\u001b[39;00m\n\u001b[1;32m    856\u001b[0m     \u001b[38;5;66;03m# Binary mode does not support 'encoding' and 'newline'.\u001b[39;00m\n\u001b[1;32m    857\u001b[0m     \u001b[38;5;28;01mif\u001b[39;00m ioargs\u001b[38;5;241m.\u001b[39mencoding \u001b[38;5;129;01mand\u001b[39;00m \u001b[38;5;124m\"\u001b[39m\u001b[38;5;124mb\u001b[39m\u001b[38;5;124m\"\u001b[39m \u001b[38;5;129;01mnot\u001b[39;00m \u001b[38;5;129;01min\u001b[39;00m ioargs\u001b[38;5;241m.\u001b[39mmode:\n\u001b[1;32m    858\u001b[0m         \u001b[38;5;66;03m# Encoding\u001b[39;00m\n\u001b[0;32m--> 859\u001b[0m         handle \u001b[38;5;241m=\u001b[39m \u001b[38;5;28mopen\u001b[39m(\n\u001b[1;32m    860\u001b[0m             handle,\n\u001b[1;32m    861\u001b[0m             ioargs\u001b[38;5;241m.\u001b[39mmode,\n\u001b[1;32m    862\u001b[0m             encoding\u001b[38;5;241m=\u001b[39mioargs\u001b[38;5;241m.\u001b[39mencoding,\n\u001b[1;32m    863\u001b[0m             errors\u001b[38;5;241m=\u001b[39merrors,\n\u001b[1;32m    864\u001b[0m             newline\u001b[38;5;241m=\u001b[39m\u001b[38;5;124m\"\u001b[39m\u001b[38;5;124m\"\u001b[39m,\n\u001b[1;32m    865\u001b[0m         )\n\u001b[1;32m    866\u001b[0m     \u001b[38;5;28;01melse\u001b[39;00m:\n\u001b[1;32m    867\u001b[0m         \u001b[38;5;66;03m# Binary mode\u001b[39;00m\n\u001b[1;32m    868\u001b[0m         handle \u001b[38;5;241m=\u001b[39m \u001b[38;5;28mopen\u001b[39m(handle, ioargs\u001b[38;5;241m.\u001b[39mmode)\n",
      "\u001b[0;31mFileNotFoundError\u001b[0m: [Errno 2] No such file or directory: '/kaggle/input/netflix-movies-and-tv-shows/netflix_titles.csv'"
     ]
    }
   ],
   "source": [
    "df = pd.read_csv('netflix_titles.csv', encoding='ISO-8859-1')\n",
    "df.head()"
   ]
  },
  {
   "cell_type": "markdown",
   "id": "ccdf5e87",
   "metadata": {
    "papermill": {
     "duration": 0.006799,
     "end_time": "2024-05-22T06:31:48.294075",
     "exception": false,
     "start_time": "2024-05-22T06:31:48.287276",
     "status": "completed"
    },
    "tags": []
   },
   "source": [
    "## Data Cleaning"
   ]
  },
  {
   "cell_type": "code",
   "execution_count": null,
   "id": "77c73020",
   "metadata": {
    "execution": {
     "iopub.execute_input": "2024-05-22T06:31:48.310743Z",
     "iopub.status.busy": "2024-05-22T06:31:48.310184Z",
     "iopub.status.idle": "2024-05-22T06:31:48.329176Z",
     "shell.execute_reply": "2024-05-22T06:31:48.327912Z"
    },
    "papermill": {
     "duration": 0.030494,
     "end_time": "2024-05-22T06:31:48.331889",
     "exception": false,
     "start_time": "2024-05-22T06:31:48.301395",
     "status": "completed"
    },
    "tags": []
   },
   "outputs": [],
   "source": [
    "df = df.iloc[:, :10]\n",
    "df.head()"
   ]
  },
  {
   "cell_type": "code",
   "execution_count": null,
   "id": "005ecd52",
   "metadata": {
    "execution": {
     "iopub.execute_input": "2024-05-22T06:31:48.348735Z",
     "iopub.status.busy": "2024-05-22T06:31:48.348332Z",
     "iopub.status.idle": "2024-05-22T06:31:48.355664Z",
     "shell.execute_reply": "2024-05-22T06:31:48.354534Z"
    },
    "papermill": {
     "duration": 0.018663,
     "end_time": "2024-05-22T06:31:48.358112",
     "exception": false,
     "start_time": "2024-05-22T06:31:48.339449",
     "status": "completed"
    },
    "tags": []
   },
   "outputs": [],
   "source": [
    "df.shape"
   ]
  },
  {
   "cell_type": "code",
   "execution_count": null,
   "id": "48ed86d9",
   "metadata": {
    "execution": {
     "iopub.execute_input": "2024-05-22T06:31:48.375964Z",
     "iopub.status.busy": "2024-05-22T06:31:48.375562Z",
     "iopub.status.idle": "2024-05-22T06:31:48.394485Z",
     "shell.execute_reply": "2024-05-22T06:31:48.393341Z"
    },
    "papermill": {
     "duration": 0.030684,
     "end_time": "2024-05-22T06:31:48.397169",
     "exception": false,
     "start_time": "2024-05-22T06:31:48.366485",
     "status": "completed"
    },
    "tags": []
   },
   "outputs": [],
   "source": [
    "df.isnull().sum()"
   ]
  },
  {
   "cell_type": "code",
   "execution_count": null,
   "id": "38af59a6",
   "metadata": {
    "execution": {
     "iopub.execute_input": "2024-05-22T06:31:48.414832Z",
     "iopub.status.busy": "2024-05-22T06:31:48.414453Z",
     "iopub.status.idle": "2024-05-22T06:31:48.443023Z",
     "shell.execute_reply": "2024-05-22T06:31:48.441880Z"
    },
    "papermill": {
     "duration": 0.040914,
     "end_time": "2024-05-22T06:31:48.446044",
     "exception": false,
     "start_time": "2024-05-22T06:31:48.405130",
     "status": "completed"
    },
    "tags": []
   },
   "outputs": [],
   "source": [
    "df.drop_duplicates(inplace=True)"
   ]
  },
  {
   "cell_type": "code",
   "execution_count": null,
   "id": "fe8b7455",
   "metadata": {
    "execution": {
     "iopub.execute_input": "2024-05-22T06:31:48.463717Z",
     "iopub.status.busy": "2024-05-22T06:31:48.463241Z",
     "iopub.status.idle": "2024-05-22T06:31:48.471306Z",
     "shell.execute_reply": "2024-05-22T06:31:48.469926Z"
    },
    "papermill": {
     "duration": 0.019837,
     "end_time": "2024-05-22T06:31:48.473758",
     "exception": false,
     "start_time": "2024-05-22T06:31:48.453921",
     "status": "completed"
    },
    "tags": []
   },
   "outputs": [],
   "source": [
    "df.shape"
   ]
  },
  {
   "cell_type": "markdown",
   "id": "07d70e4c",
   "metadata": {
    "papermill": {
     "duration": 0.007549,
     "end_time": "2024-05-22T06:31:48.489302",
     "exception": false,
     "start_time": "2024-05-22T06:31:48.481753",
     "status": "completed"
    },
    "tags": []
   },
   "source": [
    "The dataset does not have duplicates but there are some missing values. We won't be using the columns with much missing values so it wouldn't be a problem."
   ]
  },
  {
   "cell_type": "markdown",
   "id": "228bb3e0",
   "metadata": {
    "papermill": {
     "duration": 0.008507,
     "end_time": "2024-05-22T06:31:48.506015",
     "exception": false,
     "start_time": "2024-05-22T06:31:48.497508",
     "status": "completed"
    },
    "tags": []
   },
   "source": [
    "## Exploratory Data Analysis"
   ]
  },
  {
   "cell_type": "code",
   "execution_count": null,
   "id": "bdaa48cc",
   "metadata": {
    "execution": {
     "iopub.execute_input": "2024-05-22T06:31:48.523809Z",
     "iopub.status.busy": "2024-05-22T06:31:48.523394Z",
     "iopub.status.idle": "2024-05-22T06:31:48.831515Z",
     "shell.execute_reply": "2024-05-22T06:31:48.830446Z"
    },
    "papermill": {
     "duration": 0.320034,
     "end_time": "2024-05-22T06:31:48.833979",
     "exception": false,
     "start_time": "2024-05-22T06:31:48.513945",
     "status": "completed"
    },
    "tags": []
   },
   "outputs": [],
   "source": [
    "plt.figure(figsize=(10,6))\n",
    "sns.countplot(x=df['type'], data=df, palette='colorblind')\n",
    "plt.title('Number of Movies and TV Shows')\n",
    "plt.show()"
   ]
  },
  {
   "cell_type": "code",
   "execution_count": null,
   "id": "8c8d7980",
   "metadata": {
    "execution": {
     "iopub.execute_input": "2024-05-22T06:31:48.852645Z",
     "iopub.status.busy": "2024-05-22T06:31:48.852187Z",
     "iopub.status.idle": "2024-05-22T06:31:49.232795Z",
     "shell.execute_reply": "2024-05-22T06:31:49.231585Z"
    },
    "papermill": {
     "duration": 0.393269,
     "end_time": "2024-05-22T06:31:49.235686",
     "exception": false,
     "start_time": "2024-05-22T06:31:48.842417",
     "status": "completed"
    },
    "tags": []
   },
   "outputs": [],
   "source": [
    "country_counts = df['country'].value_counts()\n",
    "top_5_countries = country_counts.nlargest(5)\n",
    "plt.figure(figsize=(10, 6))\n",
    "sns.barplot(x=top_5_countries.index, y=top_5_countries.values, palette='colorblind')\n",
    "\n",
    "plt.title('Top 5 countries by Number of shows (both Movies and TV Shows) produced')\n",
    "plt.show()"
   ]
  },
  {
   "cell_type": "code",
   "execution_count": null,
   "id": "a637493d",
   "metadata": {
    "execution": {
     "iopub.execute_input": "2024-05-22T06:31:49.255754Z",
     "iopub.status.busy": "2024-05-22T06:31:49.255337Z",
     "iopub.status.idle": "2024-05-22T06:31:49.589371Z",
     "shell.execute_reply": "2024-05-22T06:31:49.588228Z"
    },
    "papermill": {
     "duration": 0.347173,
     "end_time": "2024-05-22T06:31:49.592074",
     "exception": false,
     "start_time": "2024-05-22T06:31:49.244901",
     "status": "completed"
    },
    "tags": []
   },
   "outputs": [],
   "source": [
    "# Plot for Movies\n",
    "movies_df = df[df['type'] == 'Movie']\n",
    "\n",
    "top_5_movies = movies_df['country'].value_counts().nlargest(5)\n",
    "\n",
    "plt.figure(figsize=(10, 6))\n",
    "sns.barplot(x=top_5_movies.index, y=top_5_movies.values, palette='colorblind')\n",
    "plt.xlabel('Country')\n",
    "plt.ylabel('Number of Movies Produced')\n",
    "plt.title('Top 5 Countries by Number of Movies Produced')\n",
    "plt.show()"
   ]
  },
  {
   "cell_type": "code",
   "execution_count": null,
   "id": "a58827be",
   "metadata": {
    "execution": {
     "iopub.execute_input": "2024-05-22T06:31:49.613168Z",
     "iopub.status.busy": "2024-05-22T06:31:49.612798Z",
     "iopub.status.idle": "2024-05-22T06:31:49.869903Z",
     "shell.execute_reply": "2024-05-22T06:31:49.868707Z"
    },
    "papermill": {
     "duration": 0.271016,
     "end_time": "2024-05-22T06:31:49.872752",
     "exception": false,
     "start_time": "2024-05-22T06:31:49.601736",
     "status": "completed"
    },
    "tags": []
   },
   "outputs": [],
   "source": [
    "# Plot for TV Shows\n",
    "tv_shows_df = df[df['type'] == 'TV Show']\n",
    "\n",
    "top_5_tv_shows = tv_shows_df['country'].value_counts().nlargest(5)\n",
    "\n",
    "plt.figure(figsize=(10, 6))\n",
    "sns.barplot(x=top_5_tv_shows.index, y=top_5_tv_shows.values, palette='colorblind')\n",
    "plt.xlabel('Country')\n",
    "plt.ylabel('Number of TV Shows Produced')\n",
    "plt.title('Top 5 Countries by Number of TV Shows Produced')\n",
    "plt.show()"
   ]
  },
  {
   "cell_type": "code",
   "execution_count": null,
   "id": "173a82cc",
   "metadata": {
    "execution": {
     "iopub.execute_input": "2024-05-22T06:31:49.895685Z",
     "iopub.status.busy": "2024-05-22T06:31:49.894748Z",
     "iopub.status.idle": "2024-05-22T06:31:50.181302Z",
     "shell.execute_reply": "2024-05-22T06:31:50.180111Z"
    },
    "papermill": {
     "duration": 0.300977,
     "end_time": "2024-05-22T06:31:50.184007",
     "exception": false,
     "start_time": "2024-05-22T06:31:49.883030",
     "status": "completed"
    },
    "tags": []
   },
   "outputs": [],
   "source": [
    "plt.figure(figsize=(10,6))\n",
    "plt.hist(df['release_year'], bins=50, color='#0072B2', edgecolor='white')\n",
    "plt.title('Release year of movies')\n",
    "plt.show()"
   ]
  },
  {
   "cell_type": "code",
   "execution_count": null,
   "id": "b0b03a06",
   "metadata": {
    "execution": {
     "iopub.execute_input": "2024-05-22T06:31:50.207300Z",
     "iopub.status.busy": "2024-05-22T06:31:50.206782Z",
     "iopub.status.idle": "2024-05-22T06:31:50.270724Z",
     "shell.execute_reply": "2024-05-22T06:31:50.269383Z"
    },
    "papermill": {
     "duration": 0.079813,
     "end_time": "2024-05-22T06:31:50.274638",
     "exception": false,
     "start_time": "2024-05-22T06:31:50.194825",
     "status": "completed"
    },
    "tags": []
   },
   "outputs": [],
   "source": [
    "df.info()\n",
    "movies_df['duration'] = movies_df['duration'].astype(str)\n",
    "\n",
    "movies_df.loc[:, 'duration'] = pd.to_numeric(movies_df['duration'].str.extract(r'(\\d+)')[0], errors='coerce')\n",
    "\n",
    "movies_df.head()"
   ]
  },
  {
   "cell_type": "code",
   "execution_count": null,
   "id": "dc59b7f7",
   "metadata": {
    "execution": {
     "iopub.execute_input": "2024-05-22T06:31:50.298885Z",
     "iopub.status.busy": "2024-05-22T06:31:50.298466Z",
     "iopub.status.idle": "2024-05-22T06:31:50.648375Z",
     "shell.execute_reply": "2024-05-22T06:31:50.647282Z"
    },
    "papermill": {
     "duration": 0.36505,
     "end_time": "2024-05-22T06:31:50.650976",
     "exception": false,
     "start_time": "2024-05-22T06:31:50.285926",
     "status": "completed"
    },
    "tags": []
   },
   "outputs": [],
   "source": [
    "plt.figure(figsize=(10,6))\n",
    "sns.countplot(x=df['rating'], data=df, palette='colorblind')\n",
    "plt.title('Distribution of Rating')\n",
    "plt.show()"
   ]
  },
  {
   "cell_type": "code",
   "execution_count": null,
   "id": "2930b4f7",
   "metadata": {
    "execution": {
     "iopub.execute_input": "2024-05-22T06:31:50.676720Z",
     "iopub.status.busy": "2024-05-22T06:31:50.676299Z",
     "iopub.status.idle": "2024-05-22T06:31:51.026156Z",
     "shell.execute_reply": "2024-05-22T06:31:51.025062Z"
    },
    "papermill": {
     "duration": 0.366829,
     "end_time": "2024-05-22T06:31:51.029617",
     "exception": false,
     "start_time": "2024-05-22T06:31:50.662788",
     "status": "completed"
    },
    "tags": []
   },
   "outputs": [],
   "source": [
    "plt.figure(figsize=(10,6))\n",
    "plt.hist(movies_df['duration'], bins=50, color='#E69F00', edgecolor='white')\n",
    "plt.title('Duration distribution of movies')\n",
    "plt.show()"
   ]
  }
 ],
 "metadata": {
  "kaggle": {
   "accelerator": "none",
   "dataSources": [
    {
     "datasetId": 4769773,
     "sourceId": 8081202,
     "sourceType": "datasetVersion"
    }
   ],
   "dockerImageVersionId": 30698,
   "isGpuEnabled": false,
   "isInternetEnabled": true,
   "language": "python",
   "sourceType": "notebook"
  },
  "kernelspec": {
   "display_name": "Python 3 (ipykernel)",
   "language": "python",
   "name": "python3"
  },
  "language_info": {
   "codemirror_mode": {
    "name": "ipython",
    "version": 3
   },
   "file_extension": ".py",
   "mimetype": "text/x-python",
   "name": "python",
   "nbconvert_exporter": "python",
   "pygments_lexer": "ipython3",
   "version": "3.11.5"
  },
  "papermill": {
   "default_parameters": {},
   "duration": 8.971889,
   "end_time": "2024-05-22T06:31:51.669711",
   "environment_variables": {},
   "exception": null,
   "input_path": "__notebook__.ipynb",
   "output_path": "__notebook__.ipynb",
   "parameters": {},
   "start_time": "2024-05-22T06:31:42.697822",
   "version": "2.5.0"
  }
 },
 "nbformat": 4,
 "nbformat_minor": 5
}
